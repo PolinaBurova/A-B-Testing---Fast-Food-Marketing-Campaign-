{
 "cells": [
  {
   "cell_type": "markdown",
   "id": "3c614e5e-5ac7-44a3-aab8-5f82e83b3708",
   "metadata": {},
   "source": [
    "# Fast Food Marketing Campaign: A/B Testing"
   ]
  },
  {
   "cell_type": "markdown",
   "id": "ce010fa6-19b2-4478-a4af-e5dfc05cf9bd",
   "metadata": {},
   "source": [
    "A fast-food chain is planning to introduce a new menu item but is undecided between three possible marketing campaigns to promote it. To determine which promotion has the most impact on sales, the chain tested each promotion in randomly selected markets. The sales of the new item were recorded weekly over a four-week period at each location.\n",
    "\n",
    "The objective is to analyze the A/B testing results and identify which marketing strategy performs best, with statistically significant differences across the test groups.\n",
    "\n",
    "In this analysis, I will focus on examining the distribution of various features in the dataset to ensure that the attributes of each promotion group are evenly distributed. This step is crucial to ensure the fairness and accuracy of the A/B test results. Let’s begin by loading the necessary libraries and data to check the distributions.\n"
   ]
  },
  {
   "cell_type": "code",
   "execution_count": 1,
   "id": "9beb129b-bc37-4a76-9b44-692d2f63e97e",
   "metadata": {},
   "outputs": [
    {
     "data": {
      "text/html": [
       "<div>\n",
       "<style scoped>\n",
       "    .dataframe tbody tr th:only-of-type {\n",
       "        vertical-align: middle;\n",
       "    }\n",
       "\n",
       "    .dataframe tbody tr th {\n",
       "        vertical-align: top;\n",
       "    }\n",
       "\n",
       "    .dataframe thead th {\n",
       "        text-align: right;\n",
       "    }\n",
       "</style>\n",
       "<table border=\"1\" class=\"dataframe\">\n",
       "  <thead>\n",
       "    <tr style=\"text-align: right;\">\n",
       "      <th></th>\n",
       "      <th>MarketID</th>\n",
       "      <th>MarketSize</th>\n",
       "      <th>LocationID</th>\n",
       "      <th>AgeOfStore</th>\n",
       "      <th>Promotion</th>\n",
       "      <th>week</th>\n",
       "      <th>SalesInThousands</th>\n",
       "    </tr>\n",
       "  </thead>\n",
       "  <tbody>\n",
       "    <tr>\n",
       "      <th>0</th>\n",
       "      <td>1</td>\n",
       "      <td>Medium</td>\n",
       "      <td>1</td>\n",
       "      <td>4</td>\n",
       "      <td>3</td>\n",
       "      <td>1</td>\n",
       "      <td>33.73</td>\n",
       "    </tr>\n",
       "    <tr>\n",
       "      <th>1</th>\n",
       "      <td>1</td>\n",
       "      <td>Medium</td>\n",
       "      <td>1</td>\n",
       "      <td>4</td>\n",
       "      <td>3</td>\n",
       "      <td>2</td>\n",
       "      <td>35.67</td>\n",
       "    </tr>\n",
       "    <tr>\n",
       "      <th>2</th>\n",
       "      <td>1</td>\n",
       "      <td>Medium</td>\n",
       "      <td>1</td>\n",
       "      <td>4</td>\n",
       "      <td>3</td>\n",
       "      <td>3</td>\n",
       "      <td>29.03</td>\n",
       "    </tr>\n",
       "    <tr>\n",
       "      <th>3</th>\n",
       "      <td>1</td>\n",
       "      <td>Medium</td>\n",
       "      <td>1</td>\n",
       "      <td>4</td>\n",
       "      <td>3</td>\n",
       "      <td>4</td>\n",
       "      <td>39.25</td>\n",
       "    </tr>\n",
       "    <tr>\n",
       "      <th>4</th>\n",
       "      <td>1</td>\n",
       "      <td>Medium</td>\n",
       "      <td>2</td>\n",
       "      <td>5</td>\n",
       "      <td>2</td>\n",
       "      <td>1</td>\n",
       "      <td>27.81</td>\n",
       "    </tr>\n",
       "  </tbody>\n",
       "</table>\n",
       "</div>"
      ],
      "text/plain": [
       "   MarketID MarketSize  LocationID  AgeOfStore  Promotion  week  \\\n",
       "0         1     Medium           1           4          3     1   \n",
       "1         1     Medium           1           4          3     2   \n",
       "2         1     Medium           1           4          3     3   \n",
       "3         1     Medium           1           4          3     4   \n",
       "4         1     Medium           2           5          2     1   \n",
       "\n",
       "   SalesInThousands  \n",
       "0             33.73  \n",
       "1             35.67  \n",
       "2             29.03  \n",
       "3             39.25  \n",
       "4             27.81  "
      ]
     },
     "execution_count": 1,
     "metadata": {},
     "output_type": "execute_result"
    }
   ],
   "source": [
    "import pandas as pd\n",
    "import numpy as np\n",
    "\n",
    "data = pd.read_csv(\"WA_Marketing-Campaign.csv\", encoding='ISO-8859-1')  # or encoding='latin1'\n",
    "data.head()"
   ]
  },
  {
   "cell_type": "code",
   "execution_count": 18,
   "id": "b35e5f1f-9156-4dd9-a4df-322aaf400bef",
   "metadata": {},
   "outputs": [
    {
     "data": {
      "text/plain": [
       "(548, 7)"
      ]
     },
     "execution_count": 18,
     "metadata": {},
     "output_type": "execute_result"
    }
   ],
   "source": [
    "data.shape"
   ]
  },
  {
   "cell_type": "markdown",
   "id": "95b8c2d1-df85-40ce-a3a1-0143413cad37",
   "metadata": {},
   "source": [
    "## Promotions Distribution"
   ]
  },
  {
   "cell_type": "code",
   "execution_count": 3,
   "id": "18250e56-045d-4e83-a337-fdc611c8a503",
   "metadata": {},
   "outputs": [
    {
     "data": {
      "text/plain": [
       "Promotion\n",
       "3    34.306569\n",
       "2    34.306569\n",
       "1    31.386861\n",
       "Name: proportion, dtype: float64"
      ]
     },
     "execution_count": 3,
     "metadata": {},
     "output_type": "execute_result"
    }
   ],
   "source": [
    "promotion_counts = data.Promotion.value_counts(normalize=True)*100\n",
    "promotion_counts"
   ]
  },
  {
   "cell_type": "code",
   "execution_count": 4,
   "id": "80c69082-3af7-42dd-86c4-fbbf36124037",
   "metadata": {},
   "outputs": [
    {
     "data": {
      "image/png": "[encoded data removed]",
      "text/plain": [
       "<Figure size 600x600 with 1 Axes>"
      ]
     },
     "metadata": {},
     "output_type": "display_data"
    }
   ],
   "source": [
    "import matplotlib.pyplot as plt\n",
    "\n",
    "plt.figure(figsize=(6,6))\n",
    "plt.pie(promotion_counts, labels=promotion_counts.index, autopct='%1.1f%%')\n",
    "plt.title('Promotion Distribution')\n",
    "plt.show()"
   ]
  },
  {
   "cell_type": "markdown",
   "id": "4c0205a2-20f7-4ef3-be0d-da9452cba515",
   "metadata": {},
   "source": [
    "From the chart, we can see that promotion groups 2 and 3 have the highest aggregate sales, accounting for 34.3% of total sales. However, each promotion group contributes approximately one-third of the overall sales during the promotion period.\n",
    "\n",
    "Next, let’s explore the market sizes associated with each promotion group."
   ]
  },
  {
   "cell_type": "markdown",
   "id": "74acc94d-0c48-4385-89b6-d65e6e80249c",
   "metadata": {},
   "source": [
    "## Market sizes"
   ]
  },
  {
   "cell_type": "code",
   "execution_count": 6,
   "id": "b7c9c26e-4f74-470f-b3f4-ea64ddf23d59",
   "metadata": {},
   "outputs": [
    {
     "data": {
      "text/plain": [
       "Text(0.5, 1.0, 'Market size across different promotions')"
      ]
     },
     "execution_count": 6,
     "metadata": {},
     "output_type": "execute_result"
    },
    {
     "data": {
      "image/png": "[encoded data removed]",
      "text/plain": [
       "<Figure size 600x600 with 1 Axes>"
      ]
     },
     "metadata": {},
     "output_type": "display_data"
    }
   ],
   "source": [
    "\n",
    "import seaborn as sns\n",
    "\n",
    "plt.figure(figsize = (6,6))\n",
    "sns.countplot(x = 'Promotion', hue = 'MarketSize', data = data)\n",
    "\n",
    "sns.set(style='whitegrid')\n",
    "plt.xlabel('Promotion')\n",
    "plt.ylabel('Count')\n",
    "plt.xticks(fontsize=10, rotation = 90)\n",
    "plt.title('Market size across different promotions')"
   ]
  },
  {
   "cell_type": "markdown",
   "id": "9df71360-9a30-4b97-83af-6224fa03fd08",
   "metadata": {},
   "source": [
    "Here we see that the medium market size occupies the most among all three promotion groups, while the small market size occupies the least."
   ]
  },
  {
   "cell_type": "markdown",
   "id": "63c7fb92-6637-48ba-80f0-bacdd3a56366",
   "metadata": {},
   "source": [
    "## Store Age Profiles and Group Comparability"
   ]
  },
  {
   "cell_type": "code",
   "execution_count": 9,
   "id": "1bb00565-0b00-4b3e-82a4-5353a8cfd183",
   "metadata": {},
   "outputs": [
    {
     "data": {
      "text/plain": [
       "Text(0.5, 1.0, 'Age of Store Distribution')"
      ]
     },
     "execution_count": 9,
     "metadata": {},
     "output_type": "execute_result"
    },
    {
     "data": {
      "image/png": "[encoded data removed]",
      "text/plain": [
       "<Figure size 600x600 with 1 Axes>"
      ]
     },
     "metadata": {},
     "output_type": "display_data"
    }
   ],
   "source": [
    "import seaborn as sns\n",
    "\n",
    "plt.figure(figsize = (6,6))\n",
    "sns.countplot(x = 'AgeOfStore', data = data)\n",
    "\n",
    "sns.set(style='whitegrid')\n",
    "plt.xlabel('Age of Store')\n",
    "plt.ylabel('Count')\n",
    "plt.xticks(fontsize=10, rotation = 90)\n",
    "plt.title('Age of Store Distribution')"
   ]
  },
  {
   "cell_type": "markdown",
   "id": "eaa083c8-7a08-4c43-9270-32fbea41b111",
   "metadata": {},
   "source": [
    "The majority of stores are 10 years old or less. A large number of stores are 1 year old."
   ]
  },
  {
   "cell_type": "code",
   "execution_count": 13,
   "id": "a5a976f2-ba81-4717-909f-7a6a4f1c4103",
   "metadata": {},
   "outputs": [
    {
     "data": {
      "text/html": [
       "<div>\n",
       "<style scoped>\n",
       "    .dataframe tbody tr th:only-of-type {\n",
       "        vertical-align: middle;\n",
       "    }\n",
       "\n",
       "    .dataframe tbody tr th {\n",
       "        vertical-align: top;\n",
       "    }\n",
       "\n",
       "    .dataframe thead th {\n",
       "        text-align: right;\n",
       "    }\n",
       "</style>\n",
       "<table border=\"1\" class=\"dataframe\">\n",
       "  <thead>\n",
       "    <tr style=\"text-align: right;\">\n",
       "      <th></th>\n",
       "      <th>mean</th>\n",
       "      <th>median</th>\n",
       "      <th>min</th>\n",
       "      <th>max</th>\n",
       "      <th>q1</th>\n",
       "      <th>q3</th>\n",
       "    </tr>\n",
       "    <tr>\n",
       "      <th>Promotion</th>\n",
       "      <th></th>\n",
       "      <th></th>\n",
       "      <th></th>\n",
       "      <th></th>\n",
       "      <th></th>\n",
       "      <th></th>\n",
       "    </tr>\n",
       "  </thead>\n",
       "  <tbody>\n",
       "    <tr>\n",
       "      <th>1</th>\n",
       "      <td>8.279070</td>\n",
       "      <td>6.0</td>\n",
       "      <td>1</td>\n",
       "      <td>27</td>\n",
       "      <td>3.0</td>\n",
       "      <td>12.0</td>\n",
       "    </tr>\n",
       "    <tr>\n",
       "      <th>2</th>\n",
       "      <td>7.978723</td>\n",
       "      <td>7.0</td>\n",
       "      <td>1</td>\n",
       "      <td>28</td>\n",
       "      <td>3.0</td>\n",
       "      <td>10.0</td>\n",
       "    </tr>\n",
       "    <tr>\n",
       "      <th>3</th>\n",
       "      <td>9.234043</td>\n",
       "      <td>8.0</td>\n",
       "      <td>1</td>\n",
       "      <td>24</td>\n",
       "      <td>5.0</td>\n",
       "      <td>12.0</td>\n",
       "    </tr>\n",
       "  </tbody>\n",
       "</table>\n",
       "</div>"
      ],
      "text/plain": [
       "               mean  median  min  max   q1    q3\n",
       "Promotion                                       \n",
       "1          8.279070     6.0    1   27  3.0  12.0\n",
       "2          7.978723     7.0    1   28  3.0  10.0\n",
       "3          9.234043     8.0    1   24  5.0  12.0"
      ]
     },
     "execution_count": 13,
     "metadata": {},
     "output_type": "execute_result"
    }
   ],
   "source": [
    "def q1(x):\n",
    "    return x.quantile(0.25)\n",
    "\n",
    "def q3(x):\n",
    "    return x.quantile(0.75)\n",
    "\n",
    "data.groupby(\"Promotion\")[\"AgeOfStore\"].agg(['mean', 'median', 'min', 'max', q1, q3])"
   ]
  },
  {
   "cell_type": "markdown",
   "id": "ce28fa12-7e82-4bf7-b48a-d3afb3d29986",
   "metadata": {},
   "source": [
    "\n",
    "We observe that all three promotion groups have similar store age profiles. The average store age (**mean**) for the three groups is around 8–9 years, with most stores being between 10–12 years old or younger.\n",
    "\n",
    "After analyzing the distribution of variables within the promotion groups, I can confirm that the sample groups are comparable, ensuring that the A/B testing results are valid and reliable.\n",
    "\n",
    "## Hypothesis Testing\n",
    "\n",
    "As previously mentioned, it is essential to test our hypothesis and determine if there are statistically significant differences between the test groups in A/B testing. The **t-test** is commonly used for this purpose, as it compares the averages and assesses whether they differ significantly from one another.\n",
    "\n",
    "In a t-test, two key statistics are calculated: the **t-value** and the **p-value**:\n",
    "\n",
    "- The **t-value** reflects how much the groups differ relative to the variability within the groups. A higher t-value indicates a greater difference between the groups.\n",
    "- The **p-value** measures the likelihood that the observed difference occurred by chance. A smaller p-value indicates greater statistical significance.\n",
    "\n",
    "The hypothesis test involves the **null hypothesis** and the **alternative hypothesis**:\n",
    "\n",
    "- The **null hypothesis** asserts that there is no statistically significant difference between the two groups.\n",
    "- The **alternative hypothesis** claims that there is a statistically significant difference between the two groups.\n",
    "\n",
    "## Computing the t-value and p-value\n",
    "\n",
    "To calculate the t-value, we need three components: the **mean**, the **standard deviation**, and the **sample size** for each group.\n",
    "\n",
    "In our case (with data shape `548, 7`), the **t-test** is more appropriate because we do not know the population standard deviation. The t-test compensates for this by using the sample standard deviation. If we had the population standard deviation or were working with very large samples (where we could assume normality), we could consider using the **z-test** instead.\n"
   ]
  },
  {
   "cell_type": "markdown",
   "id": "b93142f8-58cb-4839-a4be-197a5e015e9b",
   "metadata": {},
   "source": [
    "## A/B Test: Promotion 1 vs. 2"
   ]
  },
  {
   "cell_type": "code",
   "execution_count": 17,
   "id": "31b43aa0-9f57-44de-89a4-bf971a1a1854",
   "metadata": {},
   "outputs": [
    {
     "data": {
      "text/plain": [
       "8      44.54\n",
       "9      37.94\n",
       "10     45.49\n",
       "11     34.75\n",
       "24     42.92\n",
       "       ...  \n",
       "539    61.63\n",
       "540    59.87\n",
       "541    62.99\n",
       "542    57.20\n",
       "543    64.34\n",
       "Name: SalesInThousands, Length: 172, dtype: float64"
      ]
     },
     "execution_count": 17,
     "metadata": {},
     "output_type": "execute_result"
    }
   ],
   "source": [
    "promo_1 = data[data['Promotion'] == 1]['SalesInThousands']\n",
    "promo_1"
   ]
  },
  {
   "cell_type": "code",
   "execution_count": 21,
   "id": "68b23c98-a225-4347-8220-17ab9fdbaaab",
   "metadata": {},
   "outputs": [
    {
     "name": "stdout",
     "output_type": "stream",
     "text": [
      "T-statistic: 6.453671702181005\n",
      "P-value: 3.5506696512134566e-10\n",
      "Reject the null hypothesis. There is a significant difference.\n"
     ]
    }
   ],
   "source": [
    "from scipy import stats\n",
    "\n",
    "promo_1 = data[data['Promotion'] == 1]['SalesInThousands']\n",
    "promo_2 = data[data['Promotion'] == 2]['SalesInThousands']\n",
    "promo_3 = data[data['Promotion'] == 3]['SalesInThousands']\n",
    "\n",
    "\n",
    "#mean\n",
    "mean_1 = promo_1.mean()\n",
    "mean_2 = promo_2.mean()\n",
    "mean_3 = promo_3.mean()\n",
    "\n",
    "\n",
    "#standard deviation\n",
    "std_1 = promo_1.std()\n",
    "std_2 = promo_2.std()\n",
    "std_3 = promo_3.std()\n",
    "\n",
    "\n",
    "t_statistic, p_value = stats.ttest_ind(promo_1, promo_2)\n",
    "\n",
    "print(f'T-statistic: {t_statistic}')\n",
    "print(f'P-value: {p_value}')\n",
    "\n",
    "alpha = 0.05\n",
    "\n",
    "\n",
    "if p_value < alpha:\n",
    "    print(\"Reject the null hypothesis. There is a significant difference.\")\n",
    "else:\n",
    "    print(\"Fail to reject the null hypothesis. There is no significant difference.\")"
   ]
  },
  {
   "cell_type": "code",
   "execution_count": 22,
   "id": "cff8274c-fb39-4654-b577-a47b08a13a44",
   "metadata": {},
   "outputs": [
    {
     "name": "stdout",
     "output_type": "stream",
     "text": [
      "Promotion 1 outperformed Promotion 2 with mean sales of 58.09901162790698 compared to 47.32941489361701.\n"
     ]
    }
   ],
   "source": [
    "if mean_1 > mean_2:\n",
    "    print(f\"Promotion 1 outperformed Promotion 2 with mean sales of {mean_1} compared to {mean_2}.\")\n",
    "else:\n",
    "    print(f\"Promotion 2 outperformed Promotion 1 with mean sales of {mean_2} compared to {mean_1}.\")\n"
   ]
  },
  {
   "cell_type": "markdown",
   "id": "1032f9de-a16c-48eb-a35f-a002d4d23e14",
   "metadata": {},
   "source": [
    "The results indicate strong evidence against the null hypothesis, showing a significant difference between Promotion 1 and Promotion 2. Additionally, Promotion 1 has outperformed Promotion 2.\n"
   ]
  },
  {
   "cell_type": "markdown",
   "id": "e5d2f81d-d735-4aec-b818-a63886ade5a7",
   "metadata": {},
   "source": [
    "## A/B Test: Promotion 1 vs. 3"
   ]
  },
  {
   "cell_type": "code",
   "execution_count": 23,
   "id": "1b9d8414-55fe-4205-b8fe-c7b890ff65b4",
   "metadata": {},
   "outputs": [
    {
     "name": "stdout",
     "output_type": "stream",
     "text": [
      "T-statistic: 1.5551383687293547\n",
      "P-value: 0.12079667272313277\n",
      "Fail to reject the null hypothesis. There is no significant difference.\n"
     ]
    }
   ],
   "source": [
    "t_statistic, p_value = stats.ttest_ind(promo_1, promo_3)\n",
    "\n",
    "print(f'T-statistic: {t_statistic}')\n",
    "print(f'P-value: {p_value}')\n",
    "\n",
    "alpha = 0.05\n",
    "\n",
    "\n",
    "if p_value < alpha:\n",
    "    print(\"Reject the null hypothesis. There is a significant difference.\")\n",
    "else:\n",
    "    print(\"Fail to reject the null hypothesis. There is no significant difference.\")"
   ]
  },
  {
   "cell_type": "code",
   "execution_count": 24,
   "id": "4f03e0e8-9a85-4f61-8bad-b31495820a8d",
   "metadata": {},
   "outputs": [
    {
     "name": "stdout",
     "output_type": "stream",
     "text": [
      "Promotion 1 outperformed Promotion 3 with mean sales of 58.09901162790698 compared to 55.36446808510639.\n"
     ]
    }
   ],
   "source": [
    "if mean_1 > mean_3:\n",
    "    print(f\"Promotion 1 outperformed Promotion 3 with mean sales of {mean_1} compared to {mean_3}.\")\n",
    "else:\n",
    "    print(f\"Promotion 3 outperformed Promotion 1 with mean sales of {mean_3} compared to {mean_1}.\")\n"
   ]
  },
  {
   "cell_type": "markdown",
   "id": "7e50d0dc-cf72-4ac6-b4c6-2b27443cac78",
   "metadata": {},
   "source": [
    "The results suggest that there is no statistically significant difference between Promotion 1 and Promotion 3, even though the average sales for Promotion 1 (58.1) are higher than those for Promotion 3 (55.36).\n",
    "\n",
    "From this analysis, I conclude that Promotion 1 and Promotion 3 perform better than Promotion 2. However, the difference between Promotion 1 and Promotion 3 is not statistically significant. Therefore, the company can confidently implement either Promotion 1 or Promotion 3 for their fast-food retail chain."
   ]
  }
 ],
 "metadata": {
  "kernelspec": {
   "display_name": "Python 3 (ipykernel)",
   "language": "python",
   "name": "python3"
  },
  "language_info": {
   "codemirror_mode": {
    "name": "ipython",
    "version": 3
   },
   "file_extension": ".py",
   "mimetype": "text/x-python",
   "name": "python",
   "nbconvert_exporter": "python",
   "pygments_lexer": "ipython3",
   "version": "3.12.1"
  }
 },
 "nbformat": 4,
 "nbformat_minor": 5
}
